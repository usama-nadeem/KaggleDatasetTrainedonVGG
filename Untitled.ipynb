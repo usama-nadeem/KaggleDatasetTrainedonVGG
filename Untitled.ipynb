{
 "cells": [
  {
   "cell_type": "code",
   "execution_count": 1,
   "metadata": {},
   "outputs": [
    {
     "name": "stdout",
     "output_type": "stream",
     "text": [
      " AzureML\t    catboost\t\t\t     pytorch\r\n",
      " MMLSpark\t    h2o\t\t\t\t     seg_pred\r\n",
      " SparkML\t    intel-image-classification.zip   seg_test\r\n",
      "'Untitled Folder'   julia\t\t\t     seg_train\r\n",
      " Untitled.ipynb     kaggle.json\t\t\t     usamafile.ipynb\r\n"
     ]
    }
   ],
   "source": [
    "!ls"
   ]
  },
  {
   "cell_type": "code",
   "execution_count": 2,
   "metadata": {},
   "outputs": [],
   "source": [
    "import os\n",
    "import cv2\n",
    "import numpy as np\n",
    "from imutils import paths\n",
    "from sklearn.preprocessing import LabelBinarizer\n",
    "from tqdm import tqdm\n",
    "def load_data(data_dir):\n",
    "  data = []\n",
    "  labels = []\n",
    "  class_dirs = os.listdir(data_dir)\n",
    "  \n",
    "  for direc in class_dirs:\n",
    "    class_dir = os.path.join(data_dir, direc)\n",
    "    for imagepath in tqdm(list(paths.list_images(class_dir))):\n",
    "      image = cv2.imread(imagepath)\n",
    "      image = cv2.resize(image, (150, 150))  # incase images not of same size\n",
    "      data.append(image)\n",
    "      labels.append(direc)\n",
    "  # normalizing and converting to numpy array format\n",
    "  data = np.array(data, dtype='float')/255.0\n",
    "  labels = np.array(labels)\n",
    "  return data, labels"
   ]
  },
  {
   "cell_type": "code",
   "execution_count": 18,
   "metadata": {},
   "outputs": [
    {
     "name": "stderr",
     "output_type": "stream",
     "text": [
      "  4%|▍         | 99/2271 [00:00<00:02, 984.59it/s]"
     ]
    },
    {
     "name": "stdout",
     "output_type": "stream",
     "text": [
      "loading train images\n"
     ]
    },
    {
     "name": "stderr",
     "output_type": "stream",
     "text": [
      "100%|██████████| 2271/2271 [00:02<00:00, 988.28it/s] \n",
      "100%|██████████| 2382/2382 [00:02<00:00, 1080.56it/s]\n",
      "100%|██████████| 2404/2404 [00:02<00:00, 1145.55it/s]\n",
      "100%|██████████| 2512/2512 [00:02<00:00, 1174.60it/s]\n",
      "100%|██████████| 2274/2274 [00:01<00:00, 1311.77it/s]\n",
      "100%|██████████| 2191/2191 [00:01<00:00, 1161.93it/s]\n",
      " 20%|██        | 96/474 [00:00<00:00, 956.09it/s]"
     ]
    },
    {
     "name": "stdout",
     "output_type": "stream",
     "text": [
      "loading test images\n"
     ]
    },
    {
     "name": "stderr",
     "output_type": "stream",
     "text": [
      "100%|██████████| 474/474 [00:00<00:00, 1004.32it/s]\n",
      "100%|██████████| 501/501 [00:00<00:00, 1095.74it/s]\n",
      "100%|██████████| 553/553 [00:00<00:00, 1096.70it/s]\n",
      "100%|██████████| 525/525 [00:00<00:00, 1122.52it/s]\n",
      "100%|██████████| 510/510 [00:00<00:00, 1280.91it/s]\n",
      "100%|██████████| 437/437 [00:00<00:00, 1103.40it/s]\n"
     ]
    }
   ],
   "source": [
    "train_dir = \"seg_train/seg_train\"\n",
    "test_dir = \"seg_test/seg_test\"\n",
    "pred_dir = \"data/intel-image-classification-mini/seg_pred/\"\n",
    "\n",
    "print('loading train images')\n",
    "X_train, y_train = load_data(train_dir)\n",
    "\n",
    "print('loading test images')\n",
    "X_test, y_test = load_data(test_dir)"
   ]
  },
  {
   "cell_type": "code",
   "execution_count": 24,
   "metadata": {},
   "outputs": [],
   "source": [
    "lb = LabelBinarizer()\n",
    "y_train = lb.fit_transform(y_train)\n",
    "y_test = lb.fit_transform(y_test)"
   ]
  },
  {
   "cell_type": "code",
   "execution_count": 12,
   "metadata": {},
   "outputs": [],
   "source": [
    "from keras.applications.vgg16 import VGG16\n",
    "from keras.models import Model\n",
    "from keras.layers import Dense\n",
    "from keras.layers import Flatten\n",
    "\n",
    "# load VGG16 model without classification layers\n",
    "model = VGG16(include_top=False, input_shape=(150, 150, 3))\n",
    "\n",
    "# add new classification layers\n",
    "flat1 = Flatten()(model.layers[-1].output) # flatten last layer\n",
    "class1 = Dense(1024, activation='relu')(flat1) # add FC layer on previous layer\n",
    "output = Dense(6, activation='softmax')(class1) # add softmax layer\n",
    "\n",
    "# define the new model\n",
    "model = Model(inputs=model.inputs, outputs=output)\n"
   ]
  },
  {
   "cell_type": "code",
   "execution_count": 13,
   "metadata": {},
   "outputs": [
    {
     "name": "stdout",
     "output_type": "stream",
     "text": [
      "Model: \"model_1\"\n",
      "_________________________________________________________________\n",
      "Layer (type)                 Output Shape              Param #   \n",
      "=================================================================\n",
      "input_2 (InputLayer)         [(None, 150, 150, 3)]     0         \n",
      "_________________________________________________________________\n",
      "block1_conv1 (Conv2D)        (None, 150, 150, 64)      1792      \n",
      "_________________________________________________________________\n",
      "block1_conv2 (Conv2D)        (None, 150, 150, 64)      36928     \n",
      "_________________________________________________________________\n",
      "block1_pool (MaxPooling2D)   (None, 75, 75, 64)        0         \n",
      "_________________________________________________________________\n",
      "block2_conv1 (Conv2D)        (None, 75, 75, 128)       73856     \n",
      "_________________________________________________________________\n",
      "block2_conv2 (Conv2D)        (None, 75, 75, 128)       147584    \n",
      "_________________________________________________________________\n",
      "block2_pool (MaxPooling2D)   (None, 37, 37, 128)       0         \n",
      "_________________________________________________________________\n",
      "block3_conv1 (Conv2D)        (None, 37, 37, 256)       295168    \n",
      "_________________________________________________________________\n",
      "block3_conv2 (Conv2D)        (None, 37, 37, 256)       590080    \n",
      "_________________________________________________________________\n",
      "block3_conv3 (Conv2D)        (None, 37, 37, 256)       590080    \n",
      "_________________________________________________________________\n",
      "block3_pool (MaxPooling2D)   (None, 18, 18, 256)       0         \n",
      "_________________________________________________________________\n",
      "block4_conv1 (Conv2D)        (None, 18, 18, 512)       1180160   \n",
      "_________________________________________________________________\n",
      "block4_conv2 (Conv2D)        (None, 18, 18, 512)       2359808   \n",
      "_________________________________________________________________\n",
      "block4_conv3 (Conv2D)        (None, 18, 18, 512)       2359808   \n",
      "_________________________________________________________________\n",
      "block4_pool (MaxPooling2D)   (None, 9, 9, 512)         0         \n",
      "_________________________________________________________________\n",
      "block5_conv1 (Conv2D)        (None, 9, 9, 512)         2359808   \n",
      "_________________________________________________________________\n",
      "block5_conv2 (Conv2D)        (None, 9, 9, 512)         2359808   \n",
      "_________________________________________________________________\n",
      "block5_conv3 (Conv2D)        (None, 9, 9, 512)         2359808   \n",
      "_________________________________________________________________\n",
      "block5_pool (MaxPooling2D)   (None, 4, 4, 512)         0         \n",
      "_________________________________________________________________\n",
      "flatten_1 (Flatten)          (None, 8192)              0         \n",
      "_________________________________________________________________\n",
      "dense_2 (Dense)              (None, 1024)              8389632   \n",
      "_________________________________________________________________\n",
      "dense_3 (Dense)              (None, 6)                 6150      \n",
      "=================================================================\n",
      "Total params: 23,110,470\n",
      "Trainable params: 23,110,470\n",
      "Non-trainable params: 0\n",
      "_________________________________________________________________\n"
     ]
    }
   ],
   "source": [
    "model.summary()"
   ]
  },
  {
   "cell_type": "code",
   "execution_count": 25,
   "metadata": {},
   "outputs": [],
   "source": [
    "\n",
    "from sklearn.model_selection import train_test_split\n",
    "(X_train, X_valid, y_train, y_valid)= train_test_split(X_train, y_train, test_size=0.2, random_state=42)\n",
    "\n",
    "\n",
    "from keras.optimizers import SGD\n",
    "sgd = SGD(lr=0.001, decay=1e-7, momentum=.9)\n",
    "model.compile(loss='categorical_crossentropy', \n",
    "              optimizer=sgd,\n",
    "              metrics=['accuracy'])"
   ]
  },
  {
   "cell_type": "code",
   "execution_count": 26,
   "metadata": {},
   "outputs": [
    {
     "name": "stdout",
     "output_type": "stream",
     "text": [
      "Epoch 1/10\n",
      "88/88 [==============================] - 1782s 20s/step - loss: 0.9146 - accuracy: 0.6565 - val_loss: 0.2763 - val_accuracy: 0.8970\n",
      "Epoch 2/10\n",
      "88/88 [==============================] - 1701s 19s/step - loss: 0.2529 - accuracy: 0.9136 - val_loss: 0.2346 - val_accuracy: 0.9216\n",
      "Epoch 3/10\n",
      "88/88 [==============================] - 1713s 19s/step - loss: 0.1833 - accuracy: 0.9373 - val_loss: 0.2162 - val_accuracy: 0.9245\n",
      "Epoch 4/10\n",
      "88/88 [==============================] - 1718s 20s/step - loss: 0.1544 - accuracy: 0.9454 - val_loss: 0.2438 - val_accuracy: 0.9131\n",
      "Epoch 5/10\n",
      "88/88 [==============================] - 1699s 19s/step - loss: 0.1162 - accuracy: 0.9607 - val_loss: 0.2127 - val_accuracy: 0.9220\n",
      "Epoch 6/10\n",
      "88/88 [==============================] - 1719s 20s/step - loss: 0.0836 - accuracy: 0.9706 - val_loss: 0.2213 - val_accuracy: 0.9206\n",
      "Epoch 7/10\n",
      "88/88 [==============================] - 1668s 19s/step - loss: 0.0517 - accuracy: 0.9848 - val_loss: 0.3135 - val_accuracy: 0.8981\n",
      "Epoch 8/10\n",
      "88/88 [==============================] - 1717s 20s/step - loss: 0.0455 - accuracy: 0.9869 - val_loss: 0.2457 - val_accuracy: 0.9248\n",
      "Epoch 9/10\n",
      "88/88 [==============================] - 1660s 19s/step - loss: 0.0346 - accuracy: 0.9899 - val_loss: 0.2984 - val_accuracy: 0.9248\n",
      "Epoch 10/10\n",
      "88/88 [==============================] - 1741s 20s/step - loss: 0.0243 - accuracy: 0.9934 - val_loss: 0.2996 - val_accuracy: 0.9259\n"
     ]
    }
   ],
   "source": [
    "\n",
    "H = model.fit(X_train, y_train, batch_size=128,\n",
    "              epochs=10, \n",
    "              validation_data=(X_valid, y_valid))"
   ]
  },
  {
   "cell_type": "code",
   "execution_count": 27,
   "metadata": {},
   "outputs": [],
   "source": [
    "# save the model's trained weights\n",
    "model.save_weights('vgg_transfer_trained_wts.h5')\n",
    "\n",
    "\n"
   ]
  },
  {
   "cell_type": "code",
   "execution_count": 28,
   "metadata": {},
   "outputs": [
    {
     "name": "stdout",
     "output_type": "stream",
     "text": [
      "47/47 [==============================] - 95s 2s/step - loss: 0.3084 - accuracy: 0.9183\n",
      "Test Loss =  0.30839505791664124\n",
      "Test Accuracy =  0.9183333516120911\n"
     ]
    }
   ],
   "source": [
    "score = model.evaluate(X_test, y_test, batch_size=64)\n",
    "print('Test Loss = ', score[0])\n",
    "print('Test Accuracy = ', score[1])"
   ]
  },
  {
   "cell_type": "code",
   "execution_count": 30,
   "metadata": {},
   "outputs": [
    {
     "data": {
      "image/png": "[encoded data removed]",
      "text/plain": [
       "<Figure size 432x288 with 1 Axes>"
      ]
     },
     "metadata": {},
     "output_type": "display_data"
    }
   ],
   "source": [
    "\n",
    "'''LEARNING CURVE'''\n",
    "\n",
    "import matplotlib.pyplot as plt\n",
    "N = np.arange(0, 10)\n",
    "plt.style.use('ggplot')\n",
    "plt.figure()\n",
    "plt.plot(N, H.history['loss'], label='train_loss')\n",
    "plt.plot(N, H.history['val_loss'], label='val_loss')\n",
    "plt.plot(N, H.history['accuracy'], label='train_accuracy')\n",
    "plt.plot(N, H.history['val_accuracy'], label='val_accuracy')\n",
    "plt.title('Training loss and accuracy')\n",
    "plt.xlabel('Epoch #')\n",
    "plt.ylabel('Loss/Accuracy')\n",
    "plt.legend()\n",
    "plt.show()"
   ]
  },
  {
   "cell_type": "code",
   "execution_count": null,
   "metadata": {},
   "outputs": [],
   "source": []
  }
 ],
 "metadata": {
  "kernelspec": {
   "display_name": "Python 3",
   "language": "python",
   "name": "python3"
  },
  "language_info": {
   "codemirror_mode": {
    "name": "ipython",
    "version": 3
   },
   "file_extension": ".py",
   "mimetype": "text/x-python",
   "name": "python",
   "nbconvert_exporter": "python",
   "pygments_lexer": "ipython3",
   "version": "3.7.7"
  }
 },
 "nbformat": 4,
 "nbformat_minor": 4
}
